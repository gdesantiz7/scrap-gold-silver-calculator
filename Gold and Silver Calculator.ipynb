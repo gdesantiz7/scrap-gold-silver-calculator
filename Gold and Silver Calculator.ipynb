{
 "cells": [
  {
   "cell_type": "markdown",
   "metadata": {
    "colab_type": "text",
    "id": "GeoJ-NyOzfgI"
   },
   "source": [
    "# Gold and Silver Calculator"
   ]
  },
  {
   "cell_type": "markdown",
   "metadata": {
    "colab_type": "text",
    "id": "7ZYgeaO_zfgM"
   },
   "source": [
    "## Description"
   ]
  },
  {
   "cell_type": "markdown",
   "metadata": {
    "colab_type": "text",
    "id": "T3WWoVfyzfgN"
   },
   "source": [
    "This calculator outputs a value of United States Dollars (USD) given a weight and purity of gold or silver.  The value of the gold or silver is determined by using the current spot price of gold or silver per ounce in the market."
   ]
  },
  {
   "cell_type": "markdown",
   "metadata": {
    "colab_type": "text",
    "id": "U5aXnr4HzfgO"
   },
   "source": [
    "## Function"
   ]
  },
  {
   "cell_type": "code",
   "execution_count": 1,
   "metadata": {
    "colab": {},
    "colab_type": "code",
    "id": "n1prmpRGzfgO"
   },
   "outputs": [],
   "source": [
    "def gold_silver_calculator() -> float:\n",
    "    \"\"\"Calculate the value of gold and silver in pennyweight (DWT), grams (g), or ounces (oz).\"\"\"\n",
    "    gold_price_troy_ounce = 1503\n",
    "    silver_price_troy_ounce = 17.93\n",
    "    metal = input(\"Select Gold or Silver: \")\n",
    "    while metal != 'Gold' and metal != 'Silver':\n",
    "            print(\"Must be Gold or Silver\")\n",
    "            metal = input(\"Select Gold or Silver: \")\n",
    "    if metal == 'Gold':\n",
    "        unit = input(\"Select DWT, g, or oz: \")\n",
    "        while unit != 'DWT' and unit != 'g' and unit != 'oz':\n",
    "            print(\"Must be DWT, g, or oz\")\n",
    "            unit = input(\"Select DWT, g, or oz: \")\n",
    "        while True:\n",
    "            weight = input(\"Enter Weight: \")\n",
    "            try:\n",
    "                weight = float(weight)\n",
    "                break\n",
    "            except:\n",
    "                print(\"Must be a number\")\n",
    "        if unit == 'oz':\n",
    "            return '${:,.2f}'.format((gold_price_troy_ounce * weight))\n",
    "        while True:\n",
    "            purity = input(\"Enter Karats: \")\n",
    "            while purity != '10' and purity != '14' and purity != '18' and purity != '24':\n",
    "                print(\"Must be 10, 14, 18, or 24\")\n",
    "                purity = input(\"Enter Karats: \")\n",
    "            purity = int(purity)\n",
    "            break\n",
    "        if unit == 'DWT':\n",
    "            if purity == 24:\n",
    "                return '${:,.2f}'.format((gold_price_troy_ounce / 20) * weight)\n",
    "            elif purity == 18:\n",
    "                return '${:,.2f}'.format((gold_price_troy_ounce / 26.66666666) * weight)\n",
    "            elif purity == 14:\n",
    "                return '${:,.2f}'.format((gold_price_troy_ounce / 34.2831501) * weight)\n",
    "            else:\n",
    "                return '${:,.2f}'.format((gold_price_troy_ounce / 48.0050267) * weight)\n",
    "        elif unit == 'g':\n",
    "            if purity == 24:\n",
    "                return '${:,.2f}'.format((gold_price_troy_ounce / 31.10116018) * weight)\n",
    "            elif purity == 18:\n",
    "                return '${:,.2f}'.format((gold_price_troy_ounce / 41.4766558) * weight)\n",
    "            elif purity == 14:\n",
    "                return '${:,.2f}'.format((gold_price_troy_ounce / 53.31472435) * weight)\n",
    "            else:\n",
    "                return '${:,.2f}'.format((gold_price_troy_ounce / 74.64582315) * weight)\n",
    "    else:\n",
    "        unit = input(\"Select DWT, g, or oz: \")\n",
    "        while unit != 'DWT' and unit != 'g' and unit != 'oz':\n",
    "            print(\"Must be DWT, g, or oz\")\n",
    "            unit = input(\"Select DWT, g, or oz: \")\n",
    "        while True:\n",
    "            weight = input(\"Enter Weight: \")\n",
    "            try:\n",
    "                weight = float(weight)\n",
    "                break\n",
    "            except:\n",
    "                print(\"Must be a number\")\n",
    "        if unit == 'oz':\n",
    "            return '${:,.2f}'.format((silver_price_troy_ounce * weight))\n",
    "        elif unit == 'DWT':\n",
    "            return '${:,.2f}'.format((silver_price_troy_ounce / 20) * weight)\n",
    "        else:\n",
    "            return '${:,.2f}'.format((silver_price_troy_ounce / 30.9137931) * weight) "
   ]
  },
  {
   "cell_type": "markdown",
   "metadata": {
    "colab_type": "text",
    "id": "PagFUr58zfgR"
   },
   "source": [
    "## Output"
   ]
  },
  {
   "cell_type": "code",
   "execution_count": null,
   "metadata": {},
   "outputs": [],
   "source": []
  }
 ],
 "metadata": {
  "colab": {
   "collapsed_sections": [],
   "name": "Gold Calculator.ipynb",
   "provenance": [],
   "version": "0.3.2"
  },
  "kernelspec": {
   "display_name": "Python 3",
   "language": "python",
   "name": "python3"
  },
  "language_info": {
   "codemirror_mode": {
    "name": "ipython",
    "version": 3
   },
   "file_extension": ".py",
   "mimetype": "text/x-python",
   "name": "python",
   "nbconvert_exporter": "python",
   "pygments_lexer": "ipython3",
   "version": "3.7.3"
  }
 },
 "nbformat": 4,
 "nbformat_minor": 1
}
